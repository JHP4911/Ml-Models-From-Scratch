{
 "cells": [
  {
   "cell_type": "code",
   "execution_count": 11,
   "metadata": {},
   "outputs": [],
   "source": [
    "from sklearn import datasets \n",
    "import matplotlib.pyplot as plt \n",
    "import seaborn as sns\n",
    "import math\n",
    "import numpy as np\n",
    "from scipy import stats\n",
    "from tqdm import tqdm\n",
    "\n",
    "data = datasets.make_classification(100,20,n_classes = 2)\n"
   ]
  },
  {
   "cell_type": "code",
   "execution_count": 18,
   "metadata": {},
   "outputs": [
    {
     "data": {
      "text/plain": [
       "array([0, 1, 1, 1, 0, 1, 0, 0, 0, 0, 0, 1, 0, 0, 0, 1, 0, 1, 1, 1, 1, 1,\n",
       "       0, 1, 0, 1, 0, 0, 0, 1, 1, 1, 1, 1, 1, 0, 0, 1, 0, 0, 1, 1, 1, 1,\n",
       "       1, 0, 0, 1, 1, 1, 1, 0, 0, 1, 1, 1, 0, 0, 1, 0, 0, 0, 0, 1, 0, 1,\n",
       "       1, 0, 0, 0, 0, 1, 0, 0, 1, 0, 0, 1, 0, 0, 1, 0, 1, 0, 0, 1, 0, 1,\n",
       "       1, 0, 0, 0, 1, 1, 1, 0, 0, 0, 0, 1])"
      ]
     },
     "execution_count": 18,
     "metadata": {},
     "output_type": "execute_result"
    }
   ],
   "source": [
    "data[1]"
   ]
  },
  {
   "cell_type": "code",
   "execution_count": 19,
   "metadata": {},
   "outputs": [],
   "source": [
    "X,Y = data[0],data[1]"
   ]
  },
  {
   "cell_type": "code",
   "execution_count": 20,
   "metadata": {},
   "outputs": [
    {
     "name": "stdout",
     "output_type": "stream",
     "text": [
      "1.0\n"
     ]
    }
   ],
   "source": [
    "from sklearn.ensemble import AdaBoostClassifier\n",
    "from sklearn.metrics import accuracy_score\n",
    "\n",
    "model = AdaBoostClassifier()\n",
    "model.fit(X,Y)\n",
    "print(accuracy_score(Y,model.predict(X)))\n"
   ]
  },
  {
   "cell_type": "markdown",
   "metadata": {},
   "source": [
    "# Implementation"
   ]
  },
  {
   "cell_type": "code",
   "execution_count": 78,
   "metadata": {},
   "outputs": [
    {
     "name": "stdout",
     "output_type": "stream",
     "text": [
      "[-1  1]\n"
     ]
    },
    {
     "data": {
      "text/plain": [
       "0.94"
      ]
     },
     "execution_count": 78,
     "metadata": {},
     "output_type": "execute_result"
    }
   ],
   "source": [
    "class Stump:\n",
    "    \n",
    "    def __init__(self):\n",
    "        \n",
    "        self.threshold = None \n",
    "        self.feature = None\n",
    "        \n",
    "        # if the threshold >= unique_features_vals then polarity +1 else -1\n",
    "        #this polarity acts as the left and right leafs \n",
    "        self.polarity = None \n",
    "        \n",
    "        #gives the importance \n",
    "        self.alpha  = None \n",
    "        \n",
    "        \n",
    "\n",
    "class AdaStump:\n",
    "    \n",
    "    \n",
    "    def __init__(self,n_stumps = 5):\n",
    "        \n",
    "        self.n_stumps = n_stumps\n",
    "        self.stumps = []\n",
    "\n",
    "        for i in range(self.n_stumps):\n",
    "            self.stumps.append(Stump())\n",
    "    \n",
    "    \n",
    "    def process_label(self,y):\n",
    "        \n",
    "        if 1 in np.unique(y) and -1 in np.unique(y):\n",
    "            return y\n",
    "        else:\n",
    "            y[y == 0] = -1\n",
    "            \n",
    "            return y\n",
    "            \n",
    "            \n",
    "    def fit(self,X,y):\n",
    "        \n",
    "        \n",
    "        Y =  self.process_label(y)\n",
    "        \n",
    "        print(np.unique(y))\n",
    "\n",
    "        n_samples,n_features = X.shape\n",
    "        \n",
    "        w = np.full(y.shape,(1 / n_samples))\n",
    "        \n",
    "        #get the best unique value from the best fearure_i that gives maximum error\n",
    "        \n",
    "        for i in range(self.n_stumps):\n",
    "            \n",
    "            min_error = float('inf')\n",
    "        \n",
    "            for feature_i in range(n_features):\n",
    "\n",
    "    \n",
    "                #go throght the unique values of feature_i\n",
    "                for unique_val in np.unique(X[:,feature_i]):\n",
    "\n",
    "                    # if feature_i >= unique_val then polarity is +1 else polarity is -1\n",
    "\n",
    "                    #error ? miscalssify ? if polarity != y_true\n",
    "                    #so each stump can only be used for binary classification \n",
    "                    p = 1\n",
    "                    \n",
    "                    polarity = np.ones(y.shape)\n",
    "\n",
    "                    polarity[X[:,feature_i] < unique_val] = -1\n",
    "\n",
    "\n",
    "                    #weights to calculate to error why? \n",
    "                    #it acts as a metric to minimize ,assign more weightage \n",
    "\n",
    "                    error = sum(w[polarity != y])\n",
    "#                     print(error)\n",
    "\n",
    "                    if error > 0.5:\n",
    "                        error = 1 - error\n",
    "                        p = -1\n",
    "\n",
    "                        \n",
    "                    if error < min_error:\n",
    "                        \n",
    "                        self.stumps[i].polarity = p\n",
    "                        self.stumps[i].threshold = unique_val\n",
    "                        self.stumps[i].feature = feature_i\n",
    "                        min_error = error  \n",
    "                       \n",
    "                    \n",
    "            self.stumps[i].alpha = 0.5 * math.log((1.0 - min_error) / (min_error + 1e-10))        \n",
    "\n",
    "\n",
    "            predictions = np.ones(np.shape(y))\n",
    "\n",
    "\n",
    "    #         print(self.stumps[i].polarity,self.stumps[i].feature,self.stumps[i].threshold)    \n",
    "\n",
    "            negative_idx = (self.stumps[i].polarity * X[:, self.stumps[i].feature] < self.stumps[i].polarity * self.stumps[i].threshold)\n",
    "\n",
    "            predictions[negative_idx] = -1\n",
    "\n",
    "            w *= np.exp(-self.stumps[i].alpha * y * predictions)\n",
    "\n",
    "            w /= np.sum(w)\n",
    "        \n",
    "        \n",
    "    def predicts(self,X):\n",
    "        \n",
    "      \n",
    "        \n",
    "        y_pred = np.zeros((X.shape[0]))\n",
    "        \n",
    "        for i in range(self.n_stumps):\n",
    "            \n",
    "            predictions = np.ones(np.shape(y_pred))\n",
    "            # The indexes where the sample values are below threshold\n",
    "            \n",
    "            \n",
    "            \n",
    "            negative_idx = (self.stumps[i].polarity * X[:, self.stumps[i].feature] < self.stumps[i].polarity * self.stumps[i].threshold)\n",
    "            # Label those as '-1'\n",
    "            predictions[negative_idx] = -1\n",
    "        \n",
    "            y_pred += self.stumps[i].alpha * predictions \n",
    "            \n",
    "        \n",
    "        y_pred = np.sign(y_pred).flatten()\n",
    "        \n",
    "        return y_pred\n",
    "            \n",
    "        \n",
    "model  = AdaStump()       \n",
    "model.fit(X,Y)\n",
    "accuracy_score(Y,model.predicts(X))"
   ]
  },
  {
   "cell_type": "code",
   "execution_count": 52,
   "metadata": {},
   "outputs": [
    {
     "data": {
      "text/plain": [
       "-inf"
      ]
     },
     "execution_count": 52,
     "metadata": {},
     "output_type": "execute_result"
    }
   ],
   "source": [
    "# 0 in np.unique([1,1,1,1,0,0,0]) and 1 in np.unique([1,1,1,1,0,0,0])\n",
    "min_error = float('-inf')\n",
    "min_error "
   ]
  }
 ],
 "metadata": {
  "kernelspec": {
   "display_name": "Python 3",
   "language": "python",
   "name": "python3"
  },
  "language_info": {
   "codemirror_mode": {
    "name": "ipython",
    "version": 3
   },
   "file_extension": ".py",
   "mimetype": "text/x-python",
   "name": "python",
   "nbconvert_exporter": "python",
   "pygments_lexer": "ipython3",
   "version": "3.7.3"
  }
 },
 "nbformat": 4,
 "nbformat_minor": 2
}
