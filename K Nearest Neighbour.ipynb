{
 "cells": [
  {
   "cell_type": "markdown",
   "metadata": {},
   "source": [
    "# Create Dataset"
   ]
  },
  {
   "cell_type": "code",
   "execution_count": 69,
   "metadata": {},
   "outputs": [
    {
     "data": {
      "text/plain": [
       "dict_keys(['data', 'target', 'target_names', 'DESCR', 'feature_names', 'filename'])"
      ]
     },
     "execution_count": 69,
     "metadata": {},
     "output_type": "execute_result"
    }
   ],
   "source": [
    "from sklearn import datasets \n",
    "import matplotlib.pyplot as plt \n",
    "import seaborn as sns\n",
    "import math\n",
    "import numpy as np\n",
    "from scipy import stats\n",
    "from tqdm import tqdm\n",
    "\n",
    "data = datasets.load_iris()\n",
    "data.keys()"
   ]
  },
  {
   "cell_type": "code",
   "execution_count": 6,
   "metadata": {},
   "outputs": [
    {
     "data": {
      "text/plain": [
       "(array(['setosa', 'versicolor', 'virginica'], dtype='<U10'),\n",
       " ['sepal length (cm)',\n",
       "  'sepal width (cm)',\n",
       "  'petal length (cm)',\n",
       "  'petal width (cm)'])"
      ]
     },
     "execution_count": 6,
     "metadata": {},
     "output_type": "execute_result"
    }
   ],
   "source": [
    "data['target_names'] , data['feature_names']"
   ]
  },
  {
   "cell_type": "code",
   "execution_count": 7,
   "metadata": {},
   "outputs": [],
   "source": [
    "X,Y = data['data'],data['target']"
   ]
  },
  {
   "cell_type": "code",
   "execution_count": 32,
   "metadata": {},
   "outputs": [
    {
     "name": "stdout",
     "output_type": "stream",
     "text": [
      "accuracy score :  0.9666666666666667\n"
     ]
    }
   ],
   "source": [
    "from sklearn.neighbors import KNeighborsClassifier \n",
    "from sklearn.metrics import accuracy_score\n",
    "\n",
    "\n",
    "knn = KNeighborsClassifier(n_neighbors= 5,n_jobs = -1,p = 2)\n",
    "knn.fit(X,Y)\n",
    "print(f'accuracy score :  {accuracy_score(knn.predict(X),Y)}')"
   ]
  },
  {
   "cell_type": "markdown",
   "metadata": {},
   "source": [
    "# My implementation of kNN"
   ]
  },
  {
   "cell_type": "code",
   "execution_count": 33,
   "metadata": {},
   "outputs": [],
   "source": [
    "#first we select value for K the neighbours / samples will take for decision making \n",
    "#then we need to calculate the euclidean distance from the test point to all the other \n",
    "# points in the dataset and select K points which are closest to out point \n",
    "# remember that out samples are n-dimensional for this example we have 4 features"
   ]
  },
  {
   "cell_type": "code",
   "execution_count": 41,
   "metadata": {},
   "outputs": [],
   "source": [
    "def distance(x,y,p):\n",
    "\n",
    "    assert len(x) == len(y)\n",
    "    \n",
    "    distance= 0\n",
    "    \n",
    "    for i in range(len(x)):\n",
    "        \n",
    "        if p == 1:\n",
    "            distance += abs(x[i] - y[i])\n",
    "        else:\n",
    "            distance += math.sqrt((x[i] - y[i]) * ( x[i] - y[i]))\n",
    "    return distance"
   ]
  },
  {
   "cell_type": "code",
   "execution_count": 99,
   "metadata": {},
   "outputs": [],
   "source": [
    "class kNN:\n",
    "    \n",
    "    def __init__(self,K = 5,p=2):\n",
    "        \n",
    "        p = p\n",
    "        \n",
    "        self.K = K\n",
    "        self.targets = None\n",
    "        self.samples = None\n",
    "    \n",
    "    \n",
    "    def calculate_distance(x,y):\n",
    "        \n",
    "        #use manhatten distance  |x1 - y1| + |x2 - y2| ... |Xn - Yn| when p = 1\n",
    "        # or euclidean distance  when p  = 2\n",
    "        return distance(x,y,p)\n",
    "    \n",
    "    def fit(self,X,Y):\n",
    "    \n",
    "        self.targets = Y\n",
    "        self.samples = X\n",
    "              \n",
    "    def predict(self,X):\n",
    "        \n",
    "        preds = []\n",
    "        \n",
    "        for test_sample in tqdm(X):\n",
    "            \n",
    "            #calculate distance bet. test_sample and all other samples \n",
    "            distances = np.argsort([kNN.calculate_distance(test_sample,train_sample) for train_sample in self.samples])[:self.K]\n",
    "            \n",
    "            test_labels = self.targets[distances]\n",
    "            \n",
    "            preds.append(stats.mode(test_labels).mode[0])\n",
    "        \n",
    "        return preds \n",
    "    "
   ]
  },
  {
   "cell_type": "code",
   "execution_count": 100,
   "metadata": {},
   "outputs": [],
   "source": [
    "model = kNN(K  = 5 , p = 2)\n",
    "model.fit(X,Y)"
   ]
  },
  {
   "cell_type": "code",
   "execution_count": 101,
   "metadata": {},
   "outputs": [
    {
     "name": "stderr",
     "output_type": "stream",
     "text": [
      "\n",
      "\n",
      "  0%|          | 0/150 [00:00<?, ?it/s]\u001b[A\u001b[A\n",
      "\n",
      " 17%|█▋        | 25/150 [00:00<00:00, 245.08it/s]\u001b[A\u001b[A\n",
      "\n",
      " 46%|████▌     | 69/150 [00:00<00:00, 282.63it/s]\u001b[A\u001b[A\n",
      "\n",
      "100%|██████████| 150/150 [00:00<00:00, 413.18it/s]\u001b[A\u001b[A\n"
     ]
    }
   ],
   "source": [
    "preds = model.predict(X)"
   ]
  },
  {
   "cell_type": "code",
   "execution_count": 102,
   "metadata": {},
   "outputs": [
    {
     "data": {
      "text/plain": [
       "0.9666666666666667"
      ]
     },
     "execution_count": 102,
     "metadata": {},
     "output_type": "execute_result"
    }
   ],
   "source": [
    "accuracy_score(preds,Y)"
   ]
  },
  {
   "cell_type": "code",
   "execution_count": 104,
   "metadata": {},
   "outputs": [
    {
     "data": {
      "text/plain": [
       "array([0, 2, 1], dtype=int64)"
      ]
     },
     "execution_count": 104,
     "metadata": {},
     "output_type": "execute_result"
    }
   ],
   "source": [
    "np.bincount([1,2,1])"
   ]
  }
 ],
 "metadata": {
  "kernelspec": {
   "display_name": "Python 3",
   "language": "python",
   "name": "python3"
  },
  "language_info": {
   "codemirror_mode": {
    "name": "ipython",
    "version": 3
   },
   "file_extension": ".py",
   "mimetype": "text/x-python",
   "name": "python",
   "nbconvert_exporter": "python",
   "pygments_lexer": "ipython3",
   "version": "3.7.3"
  }
 },
 "nbformat": 4,
 "nbformat_minor": 2
}
