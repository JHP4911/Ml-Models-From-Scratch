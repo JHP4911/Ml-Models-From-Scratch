{
 "cells": [
  {
   "cell_type": "code",
   "execution_count": 2,
   "metadata": {},
   "outputs": [
    {
     "data": {
      "text/plain": [
       "dict_keys(['data', 'target', 'feature_names', 'DESCR', 'filename'])"
      ]
     },
     "execution_count": 2,
     "metadata": {},
     "output_type": "execute_result"
    }
   ],
   "source": [
    "from sklearn import datasets \n",
    "import matplotlib.pyplot as plt \n",
    "import seaborn as sns\n",
    "import math\n",
    "import numpy as np\n",
    "from scipy import stats\n",
    "from tqdm import tqdm\n",
    "\n",
    "data = datasets.load_boston()\n",
    "data.keys()"
   ]
  },
  {
   "cell_type": "code",
   "execution_count": 3,
   "metadata": {},
   "outputs": [],
   "source": [
    "X,Y = data['data'],data['target']"
   ]
  },
  {
   "cell_type": "markdown",
   "metadata": {},
   "source": [
    "# Sklearn LinearRegression "
   ]
  },
  {
   "cell_type": "code",
   "execution_count": 6,
   "metadata": {},
   "outputs": [
    {
     "name": "stdout",
     "output_type": "stream",
     "text": [
      "score 0.7137381380515404 score 0.7137381380515404\n",
      "24.166099330126492\n"
     ]
    }
   ],
   "source": [
    "from sklearn.linear_model import LinearRegression\n",
    "from sklearn.metrics import accuracy_score,mean_squared_error,r2_score\n",
    "model = LinearRegression(fit_intercept=False,n_jobs = -1)\n",
    "model.fit(X,Y)\n",
    "print('score',model.score(X,Y),'score',r2_score(Y,model.predict(X)))\n",
    "print(mean_squared_error(Y,model.predict(X)))"
   ]
  },
  {
   "cell_type": "code",
   "execution_count": 5,
   "metadata": {},
   "outputs": [
    {
     "data": {
      "text/plain": [
       "(array([-9.28965170e-02,  4.87149552e-02, -4.05997958e-03,  2.85399882e+00,\n",
       "        -2.86843637e+00,  5.92814778e+00, -7.26933458e-03, -9.68514157e-01,\n",
       "         1.71151128e-01, -9.39621540e-03, -3.92190926e-01,  1.49056102e-02,\n",
       "        -4.16304471e-01]), 0.0)"
      ]
     },
     "execution_count": 5,
     "metadata": {},
     "output_type": "execute_result"
    }
   ],
   "source": [
    "model.coef_,model.intercept_"
   ]
  },
  {
   "cell_type": "markdown",
   "metadata": {},
   "source": [
    "# Sklearn Rigid "
   ]
  },
  {
   "cell_type": "code",
   "execution_count": 7,
   "metadata": {},
   "outputs": [
    {
     "name": "stdout",
     "output_type": "stream",
     "text": [
      "0.7390875556177521 0.7390875556177521\n"
     ]
    }
   ],
   "source": [
    "from sklearn.linear_model import Ridge # L2\n",
    "from sklearn.metrics import r2_score\n",
    "model = Ridge(alpha=0.9,max_iter=1000)\n",
    "model.fit(X,Y)\n",
    "print(model.score(X,Y),r2_score(Y,model.predict(X)))\n"
   ]
  },
  {
   "cell_type": "markdown",
   "metadata": {},
   "source": [
    "# Sklearn Lasso "
   ]
  },
  {
   "cell_type": "code",
   "execution_count": 8,
   "metadata": {},
   "outputs": [
    {
     "name": "stdout",
     "output_type": "stream",
     "text": [
      "0.6825842212709925 0.6825842212709925\n"
     ]
    }
   ],
   "source": [
    "from sklearn.linear_model import Lasso # L1\n",
    "from sklearn.metrics import r2_score\n",
    "model = Lasso()\n",
    "model.fit(X,Y)\n",
    "print(model.score(X,Y),r2_score(Y,model.predict(X)))\n"
   ]
  },
  {
   "cell_type": "markdown",
   "metadata": {},
   "source": [
    "# Sklearn Elastic "
   ]
  },
  {
   "cell_type": "code",
   "execution_count": 9,
   "metadata": {},
   "outputs": [
    {
     "name": "stdout",
     "output_type": "stream",
     "text": [
      "0.7247754388307905 0.7247754388307905\n"
     ]
    }
   ],
   "source": [
    "from sklearn.linear_model import ElasticNet # L1\n",
    "from sklearn.metrics import r2_score\n",
    "model = ElasticNet(alpha = 0.1,l1_ratio=0.1)\n",
    "model.fit(X,Y)\n",
    "print(model.score(X,Y),r2_score(Y,model.predict(X)))\n"
   ]
  },
  {
   "cell_type": "markdown",
   "metadata": {},
   "source": [
    "# Sklearn Polynomial Regression"
   ]
  },
  {
   "cell_type": "code",
   "execution_count": 10,
   "metadata": {},
   "outputs": [
    {
     "name": "stdout",
     "output_type": "stream",
     "text": [
      "0.9239966562994922 0.9239966562994923\n"
     ]
    }
   ],
   "source": [
    "from sklearn.linear_model import LinearRegression\n",
    "from sklearn.preprocessing import PolynomialFeatures\n",
    "from sklearn.metrics import r2_score\n",
    "\n",
    "X_ = PolynomialFeatures(2).fit_transform(X)\n",
    "\n",
    "\n",
    "model = LinearRegression()\n",
    "model.fit(X_,Y)\n",
    "print(model.score(X_,Y),r2_score(Y,model.predict(X_)))"
   ]
  },
  {
   "cell_type": "markdown",
   "metadata": {},
   "source": [
    "# Implementation "
   ]
  },
  {
   "cell_type": "code",
   "execution_count": 42,
   "metadata": {},
   "outputs": [],
   "source": [
    "def mse(y_true,y_pred):\n",
    "    \n",
    "    return  np.mean(0.5  * (y_true - y_pred)**2)\n",
    "\n",
    "\n",
    "class LinearRegression:\n",
    "    \n",
    "    def __init__(self,max_iter = None,method = 'OLS',lr = 0.1):\n",
    "        \n",
    "        self.W = None \n",
    "        self.B = 1 \n",
    "        self.max_iter = max_iter\n",
    "        self.method = method\n",
    "        self.lr = lr\n",
    "    \n",
    "    \n",
    "    def fit(self,X,Y):\n",
    "        \n",
    "        #Using Gradient Descent : GD\n",
    "        #calculate y pred \n",
    "        # caluclate loss \n",
    "        # calculate gradient \n",
    "        # update weights \n",
    "        \n",
    "        #using Odrinary Least Square Methods  : OLS\n",
    "        \n",
    "        \n",
    "        #shapes of W and B \n",
    "        # let X - > (batch_size ,  n_features) \n",
    "        # W -> (n_features, 1)\n",
    "        # B -> (1,1)\n",
    "        \n",
    "        if self.method == 'GD':\n",
    "        \n",
    "            m,n_features = X.shape\n",
    "            \n",
    "            \n",
    "\n",
    "            limit = 1 / math.sqrt(n_features)\n",
    "            \n",
    "            self.W = np.random.uniform(-limit, limit, (n_features, ))\n",
    "\n",
    "            #start gradient descent \n",
    "            if self.max_iter == None:\n",
    "                self.max_iter = 100\n",
    "\n",
    "\n",
    "            for epochs in range(self.max_iter):\n",
    "                \n",
    "                Y_Pred = X.dot(self.W) + self.B\n",
    "                \n",
    "             \n",
    "                loss =   mse(Y,Y_Pred)\n",
    "                \n",
    "                if epochs % (self.max_iter / 10) == 0:\n",
    "                    print('epochs',loss)\n",
    "                            \n",
    "            \n",
    "                dW  =  - (Y - Y_Pred).dot(X) / m\n",
    "                dB = - np.mean(Y - Y_Pred)\n",
    "                \n",
    "                \n",
    "                self.W -= self.lr * dW    \n",
    "                self.B -= self.lr * dB\n",
    "              \n",
    "                \n",
    "                \n",
    "        else:\n",
    "                # ordinary least square method \n",
    "                # y = w x + b \n",
    "                \n",
    "                #  W = (x - xmean) * (y - ymean) / ((x-xmean)^2 + (y-ymean)^2)\n",
    "                \n",
    "                # B = Y - W * X\n",
    "                \n",
    "                xmean = X.mean(0)\n",
    "                ymean = Y.mean()\n",
    "\n",
    "                self.W = (X - xmean).T.dot(Y-ymean)/np.sum((X - xmean)**2)\n",
    "\n",
    "                self.B = ymean - xmean.dot(self.W.T)\n",
    "                \n",
    "                print(self.W,self.B)\n",
    "                \n",
    "                \n",
    "    def predict(self,X):\n",
    "        \n",
    "        Ypred = X.dot(self.W) + self.B\n",
    "        \n",
    "        return Ypred\n",
    "                   "
   ]
  },
  {
   "cell_type": "code",
   "execution_count": 43,
   "metadata": {},
   "outputs": [
    {
     "name": "stdout",
     "output_type": "stream",
     "text": [
      "epochs 272.0773819759306\n",
      "epochs 10.947416695382442\n",
      "epochs 10.947415590867832\n",
      "epochs 10.947415590864601\n",
      "epochs 10.947415590864601\n",
      "epochs 10.947415590864601\n",
      "epochs 10.947415590864603\n",
      "epochs 10.947415590864603\n",
      "epochs 10.947415590864603\n",
      "epochs 10.947415590864603\n"
     ]
    },
    {
     "data": {
      "text/plain": [
       "0.7406426641094094"
      ]
     },
     "execution_count": 43,
     "metadata": {},
     "output_type": "execute_result"
    }
   ],
   "source": [
    "from sklearn.preprocessing import Normalizer,StandardScaler\n",
    "\n",
    "#if the data is not normalized or standardized the model cannot be computed \n",
    "\n",
    "X_  = StandardScaler().fit_transform(X)\n",
    "\n",
    "model = LinearRegression(max_iter=10000,method = 'GD')\n",
    "model.fit(X_,Y)\n",
    "r2_score(Y,model.predict(X_))"
   ]
  },
  {
   "cell_type": "markdown",
   "metadata": {},
   "source": [
    "### observations \n",
    "1. if we forget to add the bias term then the r2_score goes into -ve\n",
    "2. if the data is not standard scled then the model cant be trained properly as the data weights goes to nan \n",
    "3. replacing mean() to sum() also causes the weights to go to nan"
   ]
  },
  {
   "cell_type": "code",
   "execution_count": 39,
   "metadata": {},
   "outputs": [
    {
     "name": "stdout",
     "output_type": "stream",
     "text": [
      "[-0.27444209  0.254752   -0.34188249  0.12386866 -0.30201755  0.49145963\n",
      " -0.26642022  0.17664216 -0.26972202 -0.3311472  -0.35888846  0.23568014\n",
      " -0.52135797] 22.532806324110677\n"
     ]
    },
    {
     "data": {
      "text/plain": [
       "0.3284953699385462"
      ]
     },
     "execution_count": 39,
     "metadata": {},
     "output_type": "execute_result"
    }
   ],
   "source": [
    "from sklearn.preprocessing import StandardScaler\n",
    "\n",
    "X_ = StandardScaler().fit_transform(X)\n",
    "\n",
    "model = LinearRegression()\n",
    "model.fit(X_,Y)\n",
    "r2_score(Y,model.predict(X_))"
   ]
  },
  {
   "cell_type": "markdown",
   "metadata": {},
   "source": [
    "## will be adding regularization items "
   ]
  }
 ],
 "metadata": {
  "kernelspec": {
   "display_name": "Python 3",
   "language": "python",
   "name": "python3"
  },
  "language_info": {
   "codemirror_mode": {
    "name": "ipython",
    "version": 3
   },
   "file_extension": ".py",
   "mimetype": "text/x-python",
   "name": "python",
   "nbconvert_exporter": "python",
   "pygments_lexer": "ipython3",
   "version": "3.7.3"
  }
 },
 "nbformat": 4,
 "nbformat_minor": 2
}
