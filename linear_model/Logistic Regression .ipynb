{
 "cells": [
  {
   "cell_type": "code",
   "execution_count": 2,
   "metadata": {},
   "outputs": [
    {
     "data": {
      "text/plain": [
       "dict_keys(['data', 'target', 'target_names', 'DESCR', 'feature_names', 'filename'])"
      ]
     },
     "execution_count": 2,
     "metadata": {},
     "output_type": "execute_result"
    }
   ],
   "source": [
    "from sklearn import datasets \n",
    "import matplotlib.pyplot as plt \n",
    "import seaborn as sns\n",
    "import math\n",
    "import numpy as np\n",
    "from scipy import stats\n",
    "from tqdm import tqdm\n",
    "\n",
    "data = datasets.load_iris()\n",
    "data.keys()"
   ]
  },
  {
   "cell_type": "code",
   "execution_count": 3,
   "metadata": {},
   "outputs": [],
   "source": [
    "X,Y = data['data'][0:100],data['target'][0:100]"
   ]
  },
  {
   "cell_type": "code",
   "execution_count": 14,
   "metadata": {
    "scrolled": true
   },
   "outputs": [
    {
     "name": "stdout",
     "output_type": "stream",
     "text": [
      "accuract : 1.0\n"
     ]
    }
   ],
   "source": [
    "from sklearn.linear_model import LogisticRegression\n",
    "from sklearn.metrics import accuracy_score\n",
    "from sklearn.preprocessing import Normalizer,StandardScaler\n",
    "model  = LogisticRegression()\n",
    "\n",
    "model.fit(X,Y)\n",
    "\n",
    "print('accuract :',accuracy_score(model.predict(X),Y))\n"
   ]
  },
  {
   "cell_type": "code",
   "execution_count": 41,
   "metadata": {},
   "outputs": [],
   "source": [
    "LogisticRegression?"
   ]
  },
  {
   "cell_type": "code",
   "execution_count": 160,
   "metadata": {},
   "outputs": [
    {
     "name": "stdout",
     "output_type": "stream",
     "text": [
      "accuracy : 0.3333333333333333\n"
     ]
    },
    {
     "name": "stderr",
     "output_type": "stream",
     "text": [
      "c:\\users\\clive\\appdata\\local\\programs\\python\\python37\\lib\\site-packages\\ipykernel_launcher.py:48: RuntimeWarning: divide by zero encountered in log2\n",
      "c:\\users\\clive\\appdata\\local\\programs\\python\\python37\\lib\\site-packages\\ipykernel_launcher.py:48: RuntimeWarning: invalid value encountered in multiply\n"
     ]
    }
   ],
   "source": [
    "class LogisticRegression():\n",
    "\n",
    "    def __init__(self, max_iter = 100,learning_rate=.1,alpha = 10):\n",
    "        \n",
    "        self.alpha = 1 / alpha\n",
    "        self.W = None\n",
    "        self.B = None\n",
    "        self.lr = learning_rate\n",
    "        self.max_iter = max_iter \n",
    "        self.losses = []    \n",
    "        \n",
    "    def init_params(self, X):\n",
    "        \n",
    "        n_features = np.shape(X)[1]\n",
    "        limit = 1 / math.sqrt(n_features)\n",
    "        self.W = np.random.uniform(-limit, limit, (n_features,))\n",
    "        self.B = 1\n",
    "    \n",
    "    \n",
    "        \n",
    "    def sigmoid(self,x):\n",
    "        return 1 / (1 + np.exp(-x))   \n",
    "    \n",
    "    \n",
    "    \n",
    "    \n",
    "#     def sigmoid_grad(self,x):\n",
    "#         return self.sigmoid(x) * (1 - self.sigmoid(x))\n",
    "    \n",
    "    def l2_reg(self,x):\n",
    "        \n",
    "        return self.alpha * 0.5 * x.T.dot(x)\n",
    "    \n",
    "    def l2_reg_grad(self,x):\n",
    "        \n",
    "        return self.alpha * x\n",
    "    \n",
    "    def fit(self, X,y):\n",
    "        \n",
    "        self.init_params(X)\n",
    "         \n",
    "        for i in range(self.max_iter):\n",
    "\n",
    "            \n",
    "            y_pred = self.sigmoid(X.dot(self.W))\n",
    "            \n",
    "            #binary cross entropy\n",
    "            loss = np.mean(-(y * np.log2(y_pred) + (1 - y) * np.log2(1 - y_pred))) #+ self.l2_reg(self.W)\n",
    "            \n",
    "#             print(f'epochs {i} / {self.max_iter} loss : {loss}')\n",
    "            self.losses.append(loss)\n",
    "            \n",
    "            grad = -(y - y_pred)\n",
    "            \n",
    "            self.W -= self.lr * (grad.dot(X) / X.shape[0]) #  + self.l2_reg_grad(self.W))\n",
    "#             self.B -= self.lr * (sum(grad) / X.shape[0])\n",
    "            \n",
    "             \n",
    "    def predict(self, X):\n",
    "        \n",
    "        h = X.dot(self.W) #+ self.B\n",
    "        a = self.sigmoid(h)\n",
    "#         y_pred = np.round(a).astype(int)\n",
    "    \n",
    "\n",
    "        return a\n",
    "    \n",
    "    def plot(self):\n",
    "        import matplotlib.pyplot as plt \n",
    "        \n",
    "        plt.plot(self.losses)\n",
    "        plt.title('loss vs epochs')\n",
    "        plt.xlabel('epochs')\n",
    "        plt.ylabel('loss')\n",
    "        plt.show()\n",
    "        \n",
    "        \n",
    "# X_ = Normalizer().fit_transform(X)    \n",
    "# X_ =   StandardScaler().fit_transform(X_)  \n",
    "model =  LogisticRegression(alpha = 10,max_iter=1000)\n",
    "model.fit(X,Y)    \n",
    "print('accuracy :',accuracy_score(model.predict(X),Y))    "
   ]
  },
  {
   "cell_type": "code",
   "execution_count": 161,
   "metadata": {},
   "outputs": [
    {
     "data": {
      "image/png": "[encoded data removed]",
      "text/plain": [
       "<Figure size 432x288 with 1 Axes>"
      ]
     },
     "metadata": {
      "needs_background": "light"
     },
     "output_type": "display_data"
    }
   ],
   "source": [
    "model.plot()"
   ]
  },
  {
   "cell_type": "markdown",
   "metadata": {},
   "source": [
    "# Multi-Class Sigmoid : OVR Classifier "
   ]
  },
  {
   "cell_type": "code",
   "execution_count": 97,
   "metadata": {},
   "outputs": [
    {
     "name": "stdout",
     "output_type": "stream",
     "text": [
      "accuract : 0.9533333333333334\n"
     ]
    }
   ],
   "source": [
    "from sklearn.linear_model import LogisticRegression\n",
    "from sklearn.metrics import accuracy_score\n",
    "from sklearn.preprocessing import Normalizer,StandardScaler\n",
    "\n",
    "\n",
    "X,Y = data['data'],data['target']\n",
    "model  = LogisticRegression(multi_class = 'ovr')\n",
    "\n",
    "model.fit(X,Y)\n",
    "\n",
    "print('accuract :',accuracy_score(model.predict(X),Y))\n"
   ]
  },
  {
   "cell_type": "code",
   "execution_count": 166,
   "metadata": {},
   "outputs": [],
   "source": [
    "class OneVsRestClassifier:\n",
    "    \n",
    "    \n",
    "    def __init__(self):\n",
    "        self.n_classes = None\n",
    "        self.estimators = []\n",
    "    \n",
    "    def get_new_labels(self,Y,label):\n",
    "        \n",
    "        new_Y = np.zeros(len(Y))\n",
    "        \n",
    "        new_Y[Y == label] = 1\n",
    "        new_Y[Y != label] = 0\n",
    "        \n",
    "        return new_Y\n",
    "        \n",
    "\n",
    "        \n",
    "    def fit(self,X,Y):\n",
    "        \n",
    "        #store all estimators in a list \n",
    "        \n",
    "        \n",
    "        # using the ovr method  we need to create one classifier per class \n",
    "        \n",
    "        self.n_classes = np.unique(Y)\n",
    "        \n",
    "        \n",
    "        # the current label is class label the other classes will be labeled -1 \n",
    "        \n",
    "        for label in  self.n_classes:\n",
    "            \n",
    "            Y_ = self.get_new_labels(Y,label)\n",
    "            \n",
    "#             print(label,Y_)\n",
    "            \n",
    "            model = LogisticRegression(max_iter=1000)\n",
    "            model.fit(X,Y_)\n",
    "            \n",
    "            self.estimators.append(model)\n",
    "        \n",
    "        \n",
    "    def predict(self,X):\n",
    "        \n",
    "        classes = []\n",
    "        for sample in X:\n",
    "            \n",
    "            preds = []\n",
    "\n",
    "            for idx,label in enumerate(self.n_classes):\n",
    "\n",
    "                val = self.estimators[idx].predict(sample.reshape(1,-1))\n",
    "\n",
    "                if val > 0.3:\n",
    "                    preds.append(1)\n",
    "                else:\n",
    "                    preds.append(0)\n",
    "                  \n",
    "#                 preds.append(val) \n",
    "                \n",
    "            classes.append(np.argmax(preds))\n",
    "        \n",
    "        return classes\n",
    "    \n",
    "    \n",
    "model = OneVsRestClassifier()\n",
    "model.fit(X,Y)"
   ]
  },
  {
   "cell_type": "code",
   "execution_count": 167,
   "metadata": {},
   "outputs": [],
   "source": [
    "preds = model.predict(X)"
   ]
  },
  {
   "cell_type": "code",
   "execution_count": 169,
   "metadata": {},
   "outputs": [
    {
     "data": {
      "text/plain": [
       "0.74"
      ]
     },
     "execution_count": 169,
     "metadata": {},
     "output_type": "execute_result"
    }
   ],
   "source": [
    "accuracy_score(preds,Y)"
   ]
  },
  {
   "cell_type": "code",
   "execution_count": 153,
   "metadata": {},
   "outputs": [
    {
     "data": {
      "text/plain": [
       "[0]"
      ]
     },
     "execution_count": 153,
     "metadata": {},
     "output_type": "execute_result"
    }
   ],
   "source": []
  }
 ],
 "metadata": {
  "kernelspec": {
   "display_name": "Python 3",
   "language": "python",
   "name": "python3"
  },
  "language_info": {
   "codemirror_mode": {
    "name": "ipython",
    "version": 3
   },
   "file_extension": ".py",
   "mimetype": "text/x-python",
   "name": "python",
   "nbconvert_exporter": "python",
   "pygments_lexer": "ipython3",
   "version": "3.7.3"
  }
 },
 "nbformat": 4,
 "nbformat_minor": 2
}
