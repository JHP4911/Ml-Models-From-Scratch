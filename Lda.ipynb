{
 "cells": [
  {
   "cell_type": "markdown",
   "metadata": {},
   "source": [
    "# LDA"
   ]
  },
  {
   "cell_type": "code",
   "execution_count": 8,
   "metadata": {},
   "outputs": [],
   "source": [
    "import numpy as np\n",
    "import pandas as pd"
   ]
  },
  {
   "cell_type": "code",
   "execution_count": 1,
   "metadata": {},
   "outputs": [
    {
     "name": "stdout",
     "output_type": "stream",
     "text": [
      "[1]\n"
     ]
    }
   ],
   "source": [
    "from sklearn.discriminant_analysis import LinearDiscriminantAnalysis\n",
    "X = np.array([[-1, -1], [-2, -1], [-3, -2], [1, 1], [2, 1], [3, 2]])\n",
    "y = np.array([1, 1, 1, 2, 2, 2])\n",
    "clf = LinearDiscriminantAnalysis()\n",
    "clf.fit(X, y)\n",
    "print(clf.predict([[-0.8, -1]]))\n"
   ]
  },
  {
   "cell_type": "code",
   "execution_count": 18,
   "metadata": {},
   "outputs": [],
   "source": [
    "?? LinearDiscriminantAnalysis"
   ]
  },
  {
   "cell_type": "code",
   "execution_count": 2,
   "metadata": {},
   "outputs": [
    {
     "data": {
      "text/plain": [
       "array([[-1, -1],\n",
       "       [-2, -1],\n",
       "       [-3, -2],\n",
       "       [ 1,  1],\n",
       "       [ 2,  1],\n",
       "       [ 3,  2]])"
      ]
     },
     "execution_count": 2,
     "metadata": {},
     "output_type": "execute_result"
    }
   ],
   "source": [
    "X"
   ]
  },
  {
   "cell_type": "code",
   "execution_count": 3,
   "metadata": {},
   "outputs": [
    {
     "data": {
      "text/plain": [
       "0.5555555555555556"
      ]
     },
     "execution_count": 3,
     "metadata": {},
     "output_type": "execute_result"
    }
   ],
   "source": [
    "np.var(X[y == 1])"
   ]
  },
  {
   "cell_type": "code",
   "execution_count": 7,
   "metadata": {},
   "outputs": [
    {
     "data": {
      "text/plain": [
       "array([-2.        , -1.33333333])"
      ]
     },
     "execution_count": 7,
     "metadata": {},
     "output_type": "execute_result"
    }
   ],
   "source": [
    "X[y == 1].mean(0)"
   ]
  },
  {
   "cell_type": "code",
   "execution_count": 5,
   "metadata": {},
   "outputs": [
    {
     "data": {
      "text/plain": [
       "array([1, 2])"
      ]
     },
     "execution_count": 5,
     "metadata": {},
     "output_type": "execute_result"
    }
   ],
   "source": [
    "np.unique(y)"
   ]
  },
  {
   "cell_type": "code",
   "execution_count": 2,
   "metadata": {},
   "outputs": [
    {
     "name": "stdout",
     "output_type": "stream",
     "text": [
      "(2,)\n"
     ]
    }
   ],
   "source": [
    "def lda(x,y):\n",
    "    \n",
    "    c1,c2 = np.unique(y)\n",
    "    \n",
    "    s1 = np.var(x[y == c1])\n",
    "    s2 = np.var(x[y == c2])\n",
    "    \n",
    "    mean_diff = x[y==c1].mean(0) - x[y==c2].mean(0)\n",
    "    \n",
    "    w = (mean_diff ** 2) /(s1 + s2)\n",
    "    print(w.shape)\n",
    "    \n",
    "    return w\n",
    "    \n",
    "weight = lda(X,y)    "
   ]
  },
  {
   "cell_type": "code",
   "execution_count": 23,
   "metadata": {},
   "outputs": [
    {
     "data": {
      "text/plain": [
       "array([14.4,  6.4])"
      ]
     },
     "execution_count": 23,
     "metadata": {},
     "output_type": "execute_result"
    }
   ],
   "source": [
    "weight"
   ]
  },
  {
   "cell_type": "code",
   "execution_count": 15,
   "metadata": {},
   "outputs": [
    {
     "data": {
      "text/plain": [
       "1"
      ]
     },
     "execution_count": 15,
     "metadata": {},
     "output_type": "execute_result"
    }
   ],
   "source": [
    "1 if np.array([-0.8, -1]).dot(weight) < 0 else 2"
   ]
  },
  {
   "cell_type": "code",
   "execution_count": 22,
   "metadata": {},
   "outputs": [
    {
     "data": {
      "text/plain": [
       "2"
      ]
     },
     "execution_count": 22,
     "metadata": {},
     "output_type": "execute_result"
    }
   ],
   "source": [
    "1 if np.array([2, 3]).dot(weight) < 0 else 2"
   ]
  },
  {
   "cell_type": "markdown",
   "metadata": {},
   "source": [
    "# Decision Tree"
   ]
  },
  {
   "cell_type": "code",
   "execution_count": 24,
   "metadata": {},
   "outputs": [],
   "source": [
    "class node:\n",
    "    \n",
    "    def __init__(self):\n",
    "        self.value = None \n",
    "        self.right = None \n",
    "        self.left = None \n",
    "        "
   ]
  },
  {
   "cell_type": "code",
   "execution_count": null,
   "metadata": {},
   "outputs": [],
   "source": [
    "class Tree:\n",
    "    \n",
    "    def __init__(self):\n",
    "        pass"
   ]
  },
  {
   "cell_type": "markdown",
   "metadata": {},
   "source": [
    "## Information Gain and Entropy "
   ]
  },
  {
   "cell_type": "code",
   "execution_count": 9,
   "metadata": {},
   "outputs": [],
   "source": [
    "### entropy \n",
    "### formula = -p+ log (p+) - p_ log(p_)\n",
    "\n",
    "\n",
    "def entropy(y):\n",
    "    \n",
    "    classes = np.unique(y) # 1 2 3\n",
    "    length = len(y)\n",
    "#     print(classes,length)\n",
    "    entropy = 0\n",
    "    for label in classes:\n",
    "        p = np.sum(y == label) / length\n",
    "        entropy += p * np.log2(p)\n",
    "        \n",
    "    return -entropy"
   ]
  },
  {
   "cell_type": "code",
   "execution_count": 4,
   "metadata": {},
   "outputs": [
    {
     "data": {
      "text/plain": [
       "-1.0"
      ]
     },
     "execution_count": 4,
     "metadata": {},
     "output_type": "execute_result"
    }
   ],
   "source": [
    "4 / 8 * np.log2(4/8) + 4/8 * np.log2(4/8)"
   ]
  },
  {
   "cell_type": "code",
   "execution_count": 10,
   "metadata": {},
   "outputs": [
    {
     "data": {
      "text/plain": [
       "1.0"
      ]
     },
     "execution_count": 10,
     "metadata": {},
     "output_type": "execute_result"
    }
   ],
   "source": [
    "#checking entropy works \n",
    "y = [1,1,1,1,0,0,0,0]      \n",
    "\n",
    "entropy(y)"
   ]
  },
  {
   "cell_type": "code",
   "execution_count": 37,
   "metadata": {},
   "outputs": [
    {
     "data": {
      "text/html": [
       "<div>\n",
       "<style scoped>\n",
       "    .dataframe tbody tr th:only-of-type {\n",
       "        vertical-align: middle;\n",
       "    }\n",
       "\n",
       "    .dataframe tbody tr th {\n",
       "        vertical-align: top;\n",
       "    }\n",
       "\n",
       "    .dataframe thead th {\n",
       "        text-align: right;\n",
       "    }\n",
       "</style>\n",
       "<table border=\"1\" class=\"dataframe\">\n",
       "  <thead>\n",
       "    <tr style=\"text-align: right;\">\n",
       "      <th></th>\n",
       "      <th>toothed</th>\n",
       "      <th>breathes</th>\n",
       "      <th>legs</th>\n",
       "      <th>species</th>\n",
       "    </tr>\n",
       "  </thead>\n",
       "  <tbody>\n",
       "    <tr>\n",
       "      <th>0</th>\n",
       "      <td>1</td>\n",
       "      <td>1</td>\n",
       "      <td>1</td>\n",
       "      <td>1</td>\n",
       "    </tr>\n",
       "    <tr>\n",
       "      <th>1</th>\n",
       "      <td>1</td>\n",
       "      <td>1</td>\n",
       "      <td>1</td>\n",
       "      <td>1</td>\n",
       "    </tr>\n",
       "    <tr>\n",
       "      <th>2</th>\n",
       "      <td>1</td>\n",
       "      <td>1</td>\n",
       "      <td>0</td>\n",
       "      <td>0</td>\n",
       "    </tr>\n",
       "  </tbody>\n",
       "</table>\n",
       "</div>"
      ],
      "text/plain": [
       "   toothed  breathes  legs  species\n",
       "0        1         1     1        1\n",
       "1        1         1     1        1\n",
       "2        1         1     0        0"
      ]
     },
     "execution_count": 37,
     "metadata": {},
     "output_type": "execute_result"
    }
   ],
   "source": [
    "#dataset \n",
    "dataset = {'toothed':[1,1,1,0,1,1,1,1,1,0],\n",
    "#            'hair' : [1,1,0,1,1,1,0,0,1,0],\n",
    "           'breathes':[1,1,1,1,1,1,0,1,1,1],\n",
    "            'legs':[1,1,0,1,1,1,0,0,1,1],\n",
    "           'species':[1,1,0,1,1,1,0,0,1,0]\n",
    "          }\n",
    "\n",
    "dataset  = pd.DataFrame(dataset)\n",
    "dataset.head(3)"
   ]
  },
  {
   "cell_type": "code",
   "execution_count": 38,
   "metadata": {},
   "outputs": [
    {
     "data": {
      "text/plain": [
       "array([[1, 1, 1, 1],\n",
       "       [1, 1, 1, 1],\n",
       "       [1, 1, 0, 0],\n",
       "       [0, 1, 1, 1],\n",
       "       [1, 1, 1, 1],\n",
       "       [1, 1, 1, 1],\n",
       "       [1, 1, 0, 0],\n",
       "       [1, 1, 1, 1],\n",
       "       [0, 1, 1, 0]], dtype=int64)"
      ]
     },
     "execution_count": 38,
     "metadata": {},
     "output_type": "execute_result"
    }
   ],
   "source": [
    "x = np.array(dataset)\n",
    "x[x[:,1] == 1]"
   ]
  },
  {
   "cell_type": "code",
   "execution_count": 131,
   "metadata": {},
   "outputs": [
    {
     "data": {
      "text/plain": [
       "array([1, 1, 0, 1, 1, 0, 0, 1], dtype=int64)"
      ]
     },
     "execution_count": 131,
     "metadata": {},
     "output_type": "execute_result"
    }
   ],
   "source": [
    "x[x[:,0] == 1][:,-1]"
   ]
  },
  {
   "cell_type": "code",
   "execution_count": 15,
   "metadata": {},
   "outputs": [
    {
     "name": "stdout",
     "output_type": "stream",
     "text": [
      "info gain for feature : toothed 0.007403392114696539\n",
      "info gain for feature : hair 0.1444843438056279\n",
      "info gain for feature : breathes 0.5567796494470394\n",
      "info gain for feature : legs 0.9709505944546686\n"
     ]
    }
   ],
   "source": [
    "# information gain \n",
    "#formula : Gain(X,'Feature') = entropy(X) - weighted sum entropy(X'Feature')\n",
    "\n",
    "def info_gain(X,feature_i):\n",
    "    \n",
    "    entropy_X = entropy(X[:,-1])\n",
    "    \n",
    "    unique_values  = np.unique(X[:,feature_i]) # sunny cold winter (encoded)\n",
    "    \n",
    "    feature_entropy = 0\n",
    "    \n",
    "    \n",
    "    \n",
    "    for unique in unique_values:\n",
    "        # get the labels of feature_i having value == unique \n",
    "        y = X[X[:,feature_i] == unique][:,-1]\n",
    "        feature_entropy += entropy(y)*(len(y)/len(X))\n",
    "\n",
    "    \n",
    "    return entropy_X - feature_entropy \n",
    "    \n",
    "print('info gain for feature : toothed',info_gain(x,0))    \n",
    "print('info gain for feature : hair',info_gain(x,1))\n",
    "print('info gain for feature : breathes',info_gain(x,2))\n",
    "print('info gain for feature : legs',info_gain(x,3))\n"
   ]
  },
  {
   "cell_type": "markdown",
   "metadata": {},
   "source": [
    "# Information gain and Entropy are working correctly"
   ]
  },
  {
   "cell_type": "code",
   "execution_count": 16,
   "metadata": {},
   "outputs": [],
   "source": [
    "# splitting the data \n",
    "\n",
    "def split_dataset(X,feature_i):\n",
    "    \n",
    "    # for now only working on binary data.\n",
    "    unique_values = np.unique(X[:,feature_i[-1]]) # 0 1 \n",
    "    \n",
    "    datasets = []\n",
    "    \n",
    "    for unique in unique_values:\n",
    "        \n",
    "        datasets.append(X[X[:,feature_i[-1]] == unique][:,[cols for cols in range(X.shape[1]) if cols not in feature_i]])\n",
    "    \n",
    "    \n",
    "    # for now only considering two values \n",
    "    \n",
    "    return datasets[0],datasets[1]\n",
    "    \n",
    "    \n",
    "\n",
    "right,left = split_dataset(x,[1])"
   ]
  },
  {
   "cell_type": "code",
   "execution_count": 26,
   "metadata": {},
   "outputs": [
    {
     "data": {
      "text/plain": [
       "array([[1, 1, 0, 0],\n",
       "       [1, 0, 0, 0],\n",
       "       [1, 1, 0, 0],\n",
       "       [0, 1, 1, 0]], dtype=int64)"
      ]
     },
     "execution_count": 26,
     "metadata": {},
     "output_type": "execute_result"
    }
   ],
   "source": [
    "right"
   ]
  },
  {
   "cell_type": "code",
   "execution_count": null,
   "metadata": {},
   "outputs": [],
   "source": []
  },
  {
   "cell_type": "code",
   "execution_count": 27,
   "metadata": {},
   "outputs": [
    {
     "data": {
      "text/plain": [
       "array([[1, 1, 1, 1],\n",
       "       [1, 1, 1, 1],\n",
       "       [0, 1, 1, 1],\n",
       "       [1, 1, 1, 1],\n",
       "       [1, 1, 1, 1],\n",
       "       [1, 1, 1, 1]], dtype=int64)"
      ]
     },
     "execution_count": 27,
     "metadata": {},
     "output_type": "execute_result"
    }
   ],
   "source": [
    "left"
   ]
  },
  {
   "cell_type": "markdown",
   "metadata": {},
   "source": [
    "# split functions work"
   ]
  },
  {
   "cell_type": "code",
   "execution_count": 17,
   "metadata": {},
   "outputs": [],
   "source": [
    "# function to find feature to split on \n",
    "\n",
    "\n",
    "def split_on(X):\n",
    "    \n",
    "    # X has input features + concatenated output labels \n",
    "    \n",
    "    no_features  = X.shape[1] - 1\n",
    "    \n",
    "    #iterate through all the features get the info - gain and select the one with \n",
    "    #max gain \n",
    "    \n",
    "    info_gains = []\n",
    "    \n",
    "    for feature_i in range(no_features):\n",
    "        \n",
    "        info_gains.append(info_gain(X,feature_i))\n",
    "    \n",
    "    best_feature_i = np.argmax(info_gains)\n",
    "    info_gain_i = info_gains[best_feature_i]\n",
    "    \n",
    "    return best_feature_i,info_gain_i\n",
    "    \n"
   ]
  },
  {
   "cell_type": "code",
   "execution_count": 64,
   "metadata": {},
   "outputs": [
    {
     "data": {
      "text/plain": [
       "(1, 0.4199730940219749)"
      ]
     },
     "execution_count": 64,
     "metadata": {},
     "output_type": "execute_result"
    }
   ],
   "source": [
    "split_on(x)"
   ]
  },
  {
   "cell_type": "code",
   "execution_count": 68,
   "metadata": {},
   "outputs": [
    {
     "data": {
      "text/plain": [
       "(0, 0.109170338675599)"
      ]
     },
     "execution_count": 68,
     "metadata": {},
     "output_type": "execute_result"
    }
   ],
   "source": [
    "split_on(left)"
   ]
  },
  {
   "cell_type": "code",
   "execution_count": null,
   "metadata": {},
   "outputs": [],
   "source": []
  },
  {
   "cell_type": "markdown",
   "metadata": {},
   "source": [
    "# Algorithem Steps:\n",
    "\n",
    "1. select the best_features using the `split_on` feature\n",
    "2. select the split the dataset on that feature using the `split_dataset`\n",
    "3. To store the nodes create a tree, each node will store the following thing \n",
    "    1. the split_dataset function returns right and left nodes \n",
    "    2. we need to store the feature name\n",
    "    3. meta-data {info:gain , 'right':val,'left':val} will make prediction easy "
   ]
  },
  {
   "cell_type": "code",
   "execution_count": 20,
   "metadata": {},
   "outputs": [
    {
     "name": "stdout",
     "output_type": "stream",
     "text": [
      "(10, 4)\n",
      "split on feature =  [2] info. gain =  0.5567796494470394\n",
      "(3, 3) (7, 3)\n"
     ]
    }
   ],
   "source": [
    "# split the best_features  using split_on feature \n",
    "\n",
    "print(x.shape)\n",
    "\n",
    "feature_i,gain = split_on(x)\n",
    "\n",
    "print('split on feature = ',[feature_i],'info. gain = ',gain)\n",
    "\n",
    "right,left = split_dataset(x,[feature_i])\n",
    "\n",
    "print(right.shape,left.shape)\n"
   ]
  },
  {
   "cell_type": "code",
   "execution_count": 97,
   "metadata": {},
   "outputs": [],
   "source": [
    "class DecisionNode:\n",
    "    \n",
    "    def __init__(self,feature = None,\n",
    "                 right_val = None,left_val = None,gain = None,\n",
    "                 value = None,right=None,left=None):\n",
    "        \n",
    "            self.gain = gain\n",
    "            self.feature = feature\n",
    "            self.right_val = right_val\n",
    "            self.left_val = left_val\n",
    "            self.right = right\n",
    "            self.left = left\n",
    "            self.value = value\n",
    "#             self.meta_data = meta_data\n",
    "           "
   ]
  },
  {
   "cell_type": "code",
   "execution_count": 40,
   "metadata": {},
   "outputs": [],
   "source": [
    "class Tree:\n",
    "    \n",
    "    def __init__(self,root):\n",
    "        \n",
    "        self.root = root\n",
    "        \n",
    "    def insert(self,root,right,left):\n",
    "        \n",
    "        if root is None:\n",
    "            root = self.root\n",
    "        \n",
    "        if  root.right is None:\n",
    "            root.right = right\n",
    "        else:\n",
    "            self.insert(root.right,right,left)\n",
    "            \n",
    "        if root.left is None:\n",
    "            self.root.left = left\n",
    "        else:\n",
    "            self.insert(root.left,right,left)\n",
    "        \n",
    "        \n",
    "def traverse_(node,s = 'root'):\n",
    "    \n",
    "    if node:\n",
    "        print(node.feature,s)\n",
    "        traverse_(node.left,s='l')\n",
    "        traverse_(node.right,s = 'r')           "
   ]
  },
  {
   "cell_type": "code",
   "execution_count": 122,
   "metadata": {},
   "outputs": [
    {
     "data": {
      "text/plain": [
       "array(['toothed', 'breathes', 'legs', 'species'], dtype=object)"
      ]
     },
     "execution_count": 122,
     "metadata": {},
     "output_type": "execute_result"
    }
   ],
   "source": [
    "dataset.to_numpy().shape"
   ]
  },
  {
   "cell_type": "code",
   "execution_count": 148,
   "metadata": {},
   "outputs": [],
   "source": [
    "class  DecisionTree:\n",
    "    \n",
    "    def __init__(self,max_depth,min_features):\n",
    "        \n",
    "        \n",
    "        self.min_features = min_features\n",
    "        self.max_depth = max_depth - 1\n",
    "        self.root = None\n",
    "        self.features = None\n",
    "        \n",
    "    def fit(self,X):\n",
    "        \n",
    "        self.features = X.columns.values\n",
    "        X  = X.to_numpy()\n",
    "        \n",
    "        print(f'Shape of dataset :: {X.shape}')\n",
    "        \n",
    "        self.root  = self.build_tree(X)\n",
    "        \n",
    "        \n",
    "    def predict(self,X,node = None):\n",
    "        \n",
    "        if node is None:\n",
    "            node = self.root\n",
    "            \n",
    "        \n",
    "        \n",
    "    \n",
    "    \n",
    "    def build_tree_1(self,X):\n",
    "        remove = []\n",
    "        \n",
    "        # create the root node then start the recursion process \n",
    "        \n",
    "        ##creating the root node .\n",
    "        \n",
    "        feature_i,gain = split_on(X)\n",
    "        \n",
    "        print('root_node_feature:',feature_i,gain)\n",
    "        \n",
    "        right,left = np.unique(X[:,feature_i])        \n",
    "        \n",
    "        root_node = DecisionNode(feature_i,right,left,gain)\n",
    "    \n",
    "        # iterate throught the left and right of root node \n",
    "        \n",
    "        tree = Tree(root_node)\n",
    "        \n",
    "        print(tree)\n",
    "        \n",
    "        \n",
    "#         if self.max_depth > 1 and x.shape[1] > self.min_features:\n",
    "\n",
    "        stack = [root_node]\n",
    "    \n",
    "        \n",
    "        while stack!= None:\n",
    "            \n",
    "            node = stack.pop()\n",
    "            \n",
    "            # get the feature to split on \n",
    "            \n",
    "            feature_i  = node.feature\n",
    "            \n",
    "            remove.append(feature_i)\n",
    "            \n",
    "            # seperate the dataset \n",
    "            \n",
    "            X1,X2 = split_dataset(X,remove)\n",
    "            \n",
    "            \n",
    "#             if X1.shape[1] == 1 or X2.shape[1] == 1:\n",
    "#                 break\n",
    "            \n",
    "            best_feature_i,gain = split_on(X1)\n",
    "            \n",
    "            unique = np.unique(X1[:,best_feature_i])  \n",
    "            \n",
    "            if len(unique) == 1:\n",
    "                break\n",
    "            else:\n",
    "                right,left = unique\n",
    "            \n",
    "            print('feature right :',best_feature_i,gain)\n",
    "            print('shapes',X1.shape,X2.shape)\n",
    "            \n",
    "            \n",
    "            right_node = DecisionNode(best_feature_i,right,left,gain)\n",
    "            \n",
    "            best_feature_i,gain = split_on(X2)\n",
    "            \n",
    "            \n",
    "            unique = np.unique(X2[:,best_feature_i]) \n",
    "            \n",
    "            if len(unique) == 1:\n",
    "                break\n",
    "            else:\n",
    "                right,left = unique\n",
    "            \n",
    "            \n",
    "            left_node = DecisionNode(best_feature_i,right,left,gain)\n",
    "            \n",
    "            print('feature left :',best_feature_i,gain)\n",
    "            print('shapes',X1.shape,X2.shape)\n",
    "            \n",
    "            \n",
    "            tree.insert(None,right_node,left_node)\n",
    "            stack.append(right_node)\n",
    "            stack.append(left_node)\n",
    "            \n",
    "            \n",
    "        \n",
    "            \n",
    "        print('tree trained....') \n",
    "    \n",
    "        return tree\n",
    "    \n",
    "    \n",
    "    \n",
    "    def build_tree(self,X):\n",
    "     \n",
    "        \n",
    "        # create the root node then start the recursion process \n",
    "        \n",
    "        ##creating the root node .\n",
    "        \n",
    "        feature_i,gain = split_on(X)\n",
    "        \n",
    "        \n",
    "        \n",
    "        unique = np.unique(X[:,feature_i])\n",
    "        \n",
    "        \n",
    "        if len(unique) > 1:\n",
    "            \n",
    "             print('node :: feature=',self.features[feature_i],gain)\n",
    "            \n",
    "             right,left = unique\n",
    "            \n",
    "             X1,X2 = X[X[:,feature_i] == right],X[X[:,feature_i] == left]\n",
    "                \n",
    "              \n",
    "              \n",
    "             right_tree = self.build_tree(X1)\n",
    "             left_tree = self.build_tree(X2) \n",
    "    \n",
    "        \n",
    "             return DecisionNode(feature_i,right = right_tree,\n",
    "                                 left = left_tree,gain = gain,\n",
    "                                 right_val = right,left_val = left)\n",
    "        \n",
    "        print('leaf :: value',unique[0])\n",
    "        \n",
    "        return DecisionNode(value = unique[0])\n",
    "    \n",
    "    \n",
    "    def show_tree(self,classes = None):\n",
    "        '''\n",
    "            root \n",
    "           /   \\\n",
    "    left_tree  right_tree\n",
    "    /      \\       \n",
    "  leaf    leaf \n",
    "        '''\n",
    "        if classes:\n",
    "            self.traverse_(self.root)\n",
    "        else:\n",
    "            self.traverse_(self.root,classes)\n",
    "    \n",
    "    def traverse_(self,node,s = 'root',classes = None):\n",
    "        '''\n",
    "        node : right,left -> this 2 attributes point to the right_sub_tree & left_sub_tree\n",
    "               \n",
    "               right_val , left_val : this values help to move left or right \n",
    "               \n",
    "               1. detect if node has right & left : then this is node \n",
    "               2. if it doesnt have right & left and value is not null then its a leaf \n",
    "        '''\n",
    "        \n",
    "        #printing nodes with \n",
    "        if node.right and node.left:\n",
    "            \n",
    "            # feature_i right_val left_val\n",
    "            print(self.features[node.feature])\n",
    "            \n",
    "            print(f'/{node.right_val}  \\\\{node.left_val}')\n",
    "            if classes:\n",
    "                print(f'/{classes[node.right_val]}\\\\{classes[node.left_val]}')\n",
    "            \n",
    "            if node.left.value is not None:\n",
    "                 print('leaf ',node.left.value)\n",
    "                 if classes:\n",
    "                    print(classes[node.left.value])\n",
    "                           \n",
    "            if node.right.value is not None:\n",
    "                print('leaf',node.right.value)\n",
    "                if classes:\n",
    "                     print(classes[node.right.value])\n",
    "       \n",
    "            self.traverse_(node.left,s='left_tree')     \n",
    "            self.traverse_(node.right,s = 'right_tree')   \n",
    "                  \n",
    "        \n",
    "    "
   ]
  },
  {
   "cell_type": "code",
   "execution_count": 149,
   "metadata": {},
   "outputs": [
    {
     "name": "stdout",
     "output_type": "stream",
     "text": [
      "Shape of dataset :: (10, 4)\n",
      "node :: feature= legs 0.5567796494470394\n",
      "leaf :: value 1\n",
      "node :: feature= toothed 0.3059584928680418\n",
      "leaf :: value 0\n",
      "leaf :: value 1\n"
     ]
    }
   ],
   "source": [
    "model = DecisionTree(2,3)\n",
    "model.fit(dataset)"
   ]
  },
  {
   "cell_type": "code",
   "execution_count": 150,
   "metadata": {},
   "outputs": [
    {
     "name": "stdout",
     "output_type": "stream",
     "text": [
      "legs\n",
      "/0  \\1\n",
      "leaf 1\n",
      "toothed\n",
      "/0  \\1\n",
      "leaf  1\n",
      "leaf 0\n"
     ]
    }
   ],
   "source": [
    "model.show_tree()"
   ]
  },
  {
   "cell_type": "code",
   "execution_count": 151,
   "metadata": {},
   "outputs": [
    {
     "data": {
      "text/plain": [
       "0"
      ]
     },
     "execution_count": 151,
     "metadata": {},
     "output_type": "execute_result"
    }
   ],
   "source": [
    "model.show_tree()"
   ]
  },
  {
   "cell_type": "code",
   "execution_count": 125,
   "metadata": {},
   "outputs": [],
   "source": [
    "#make classification \n",
    "from sklearn import datasets\n",
    "\n",
    "np.random.randint(1,0,)\n"
   ]
  }
 ],
 "metadata": {
  "kernelspec": {
   "display_name": "Python 3",
   "language": "python",
   "name": "python3"
  },
  "language_info": {
   "codemirror_mode": {
    "name": "ipython",
    "version": 3
   },
   "file_extension": ".py",
   "mimetype": "text/x-python",
   "name": "python",
   "nbconvert_exporter": "python",
   "pygments_lexer": "ipython3",
   "version": "3.7.3"
  }
 },
 "nbformat": 4,
 "nbformat_minor": 2
}
