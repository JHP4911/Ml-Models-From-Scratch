{
 "cells": [
  {
   "cell_type": "markdown",
   "metadata": {},
   "source": [
    "# Naive Bayes Classifier \n",
    "\n",
    "## Bayes Theorem \n",
    "\n",
    "\n",
    "## posterior = liklihood * prior /  sacling factor \n"
   ]
  },
  {
   "cell_type": "code",
   "execution_count": 1,
   "metadata": {},
   "outputs": [
    {
     "data": {
      "text/plain": [
       "dict_keys(['data', 'target', 'target_names', 'DESCR', 'feature_names', 'filename'])"
      ]
     },
     "execution_count": 1,
     "metadata": {},
     "output_type": "execute_result"
    }
   ],
   "source": [
    "from sklearn import datasets \n",
    "import matplotlib.pyplot as plt \n",
    "import seaborn as sns\n",
    "import math\n",
    "import numpy as np\n",
    "from scipy import stats\n",
    "from tqdm import tqdm\n",
    "\n",
    "data = datasets.load_iris()\n",
    "data.keys()"
   ]
  },
  {
   "cell_type": "code",
   "execution_count": 2,
   "metadata": {},
   "outputs": [],
   "source": [
    "X,Y = data['data'],data['target']"
   ]
  },
  {
   "cell_type": "code",
   "execution_count": 10,
   "metadata": {},
   "outputs": [
    {
     "name": "stdout",
     "output_type": "stream",
     "text": [
      "accuract : 0.96\n"
     ]
    }
   ],
   "source": [
    "from sklearn.naive_bayes import GaussianNB\n",
    "from sklearn.metrics import accuracy_score\n",
    "\n",
    "model  = GaussianNB()\n",
    "\n",
    "model.fit(X,Y)\n",
    "\n",
    "print('accuract :',accuracy_score(model.predict(X),Y))\n"
   ]
  },
  {
   "cell_type": "markdown",
   "metadata": {},
   "source": [
    "# My implementation of naive bayes "
   ]
  },
  {
   "cell_type": "code",
   "execution_count": 58,
   "metadata": {},
   "outputs": [],
   "source": [
    "#the liklihood is calculated using the gaussian distribution\n",
    "# the learning takes place where we calculate the mean and varianbce \n",
    "# of each feature for each class\n",
    "\n",
    "class NaiveBayes:\n",
    "    \n",
    "    \n",
    "    def __init__(self):\n",
    "        \n",
    "        self.y_len = None \n",
    "        self.n_classes = None\n",
    "        self.means = None \n",
    "        self.vars = None \n",
    "        self.targets = None\n",
    "        self.w = {}\n",
    "    \n",
    "    \n",
    "    def class_prior(self,label,Y):\n",
    "        \n",
    "        return sum(Y == label) / self.y_len\n",
    "    \n",
    "    \n",
    "    \n",
    "    def likelihood_gausian_dist(self,X,label):\n",
    "        \n",
    "        # x : (batch_size,n_features)\n",
    "        # equation of normal distribution : 1/sqrt(2 var) * e ^ - ((x-mean)^2 / 2 var)\n",
    "        #params [{'mean':,'var':},{'mean':},{}]\n",
    "        \n",
    "        likelihood = 1\n",
    "        for i in range(len(X)):\n",
    "            a1 = 1 / np.sqrt(2 * np.pi * self.w[label][i]['var'])\n",
    "            a2 = np.exp(-((X[i] - self.w[label][i]['mean'])**2) / (2 * self.w[label][i]['var']))\n",
    "            likelihood *= a1 * a2\n",
    "        \n",
    "        return likelihood\n",
    "    \n",
    "    \n",
    "    \n",
    "    def fit(self,X,Y):\n",
    "    \n",
    "        self.y_len = len(Y)\n",
    "        self.n_classes = np.unique(Y)\n",
    "        self.targets = Y\n",
    "        \n",
    "        #calculating mean , var for each feacture each class \n",
    "        # the weight will be dict {'class1':[{'mean_f1':,'var_f1':}, }\n",
    "        \n",
    "        for label in self.n_classes:\n",
    "            \n",
    "            X_ = X[Y == label]  \n",
    "            \n",
    "            features = []\n",
    "            for feature in range(X_.shape[1]):\n",
    "                \n",
    "                features.append({'mean':X_[:,feature].mean(),'var':X_[:,feature].var()})\n",
    "            \n",
    "            self.w[label] = features\n",
    "        \n",
    "    \n",
    "    \n",
    "#          print(self.w)\n",
    "    \n",
    "    def predict(self,X):\n",
    "        \n",
    "        # X : shape  : (batch_size ,n_featurs)\n",
    "        preds = []\n",
    "\n",
    "        for test_sample in X:\n",
    "        \n",
    "            proba = [] \n",
    "            for label in self.n_classes:\n",
    "\n",
    "                prior = self.class_prior(label,self.targets)\n",
    "\n",
    "                likelihood = self.likelihood_gausian_dist(test_sample,label)\n",
    "\n",
    "                proba.append(prior * likelihood)\n",
    "#                 print(proba)\n",
    "            preds.append(np.argmax(proba))\n",
    "        \n",
    "       \n",
    "        return preds \n",
    "        \n",
    "    "
   ]
  },
  {
   "cell_type": "code",
   "execution_count": 59,
   "metadata": {},
   "outputs": [],
   "source": [
    "model = NaiveBayes()\n",
    "model.fit(X,Y)"
   ]
  },
  {
   "cell_type": "code",
   "execution_count": 60,
   "metadata": {},
   "outputs": [],
   "source": [
    "preds = model.predict(X)"
   ]
  },
  {
   "cell_type": "code",
   "execution_count": 62,
   "metadata": {},
   "outputs": [
    {
     "data": {
      "text/plain": [
       "0.96"
      ]
     },
     "execution_count": 62,
     "metadata": {},
     "output_type": "execute_result"
    }
   ],
   "source": [
    "accuracy_score(preds,Y)"
   ]
  }
 ],
 "metadata": {
  "kernelspec": {
   "display_name": "Python 3",
   "language": "python",
   "name": "python3"
  },
  "language_info": {
   "codemirror_mode": {
    "name": "ipython",
    "version": 3
   },
   "file_extension": ".py",
   "mimetype": "text/x-python",
   "name": "python",
   "nbconvert_exporter": "python",
   "pygments_lexer": "ipython3",
   "version": "3.7.3"
  }
 },
 "nbformat": 4,
 "nbformat_minor": 2
}
